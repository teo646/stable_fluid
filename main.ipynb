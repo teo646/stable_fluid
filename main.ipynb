{
 "cells": [
  {
   "cell_type": "code",
   "execution_count": 1,
   "id": "b9553b48-5c43-4c52-a91c-ea3477e11448",
   "metadata": {},
   "outputs": [],
   "source": [
    "import numpy as np\n",
    "import torch\n",
    "import matplotlib.pyplot as plt\n",
    "\n",
    "from IPython.display import display, clear_output\n",
    "from PIL import Image\n",
    "\n",
    "from stable_fluid.fluid import Fluid\n",
    "\n",
    "RESOLUTION = 150, 400, 100\n",
    "DURATION = 1000\n",
    "\n",
    "INFLOW_DURATION = 1000\n",
    "INFLOW_VELOCITY = 1\n",
    "INFLOW_COUNT = 1\n"
   ]
  },
  {
   "cell_type": "code",
   "execution_count": 2,
   "id": "3d4ab181-ab17-4aa8-aee0-2f7b44b778f6",
   "metadata": {},
   "outputs": [
    {
     "name": "stdout",
     "output_type": "stream",
     "text": [
      "device:  cuda\n"
     ]
    }
   ],
   "source": [
    "\n",
    "device = torch.device(\"cuda\") if torch.cuda.is_available() else torch.device(\"cpu\")\n",
    "print(\"device: \", device)\n",
    "fluid = Fluid(RESOLUTION, 'dye', viscosity = 0.01, device = device)\n",
    "\n",
    "inflow_velocity = torch.zeros_like(fluid.velocity, device=device)\n",
    "inflow_velocity[1, 70:80, 0:8, 70:80] += INFLOW_VELOCITY\n",
    "inflow_dye = torch.zeros(fluid.shape, device=device)\n",
    "inflow_dye[70:80, 0:8, 70:80] = 1.0\n"
   ]
  },
  {
   "cell_type": "code",
   "execution_count": 3,
   "id": "e157795a-df70-4dd9-8c9c-52bc76696700",
   "metadata": {},
   "outputs": [
    {
     "name": "stdout",
     "output_type": "stream",
     "text": [
      "(150, 400, 100)\n"
     ]
    }
   ],
   "source": [
    "print(fluid.shape)"
   ]
  },
  {
   "cell_type": "code",
   "execution_count": null,
   "id": "7faf4f36-74a4-4653-8148-398157c6d7aa",
   "metadata": {},
   "outputs": [
    {
     "data": {
      "image/png": "[encoded data removed]",
      "text/plain": [
       "<Figure size 640x480 with 1 Axes>"
      ]
     },
     "metadata": {},
     "output_type": "display_data"
    }
   ],
   "source": [
    "\n",
    "plt.ioff()  # interactive mode 끄기\n",
    "fig, ax = plt.subplots()\n",
    "im = ax.imshow(np.zeros(RESOLUTION[1:]), cmap='gray', vmin=0, vmax=1)\n",
    "plt.axis('off')\n",
    "\n",
    "for f in range(DURATION):\n",
    "    if f <= INFLOW_DURATION:\n",
    "        fluid.velocity += inflow_velocity\n",
    "        fluid.dye += inflow_dye\n",
    "    fluid.step()\n",
    "\n",
    "    dye_cpu = fluid.dye.cpu().numpy()\n",
    "    dye_cpu[dye_cpu >= 1] = 1\n",
    "    frame = dye_cpu[75]\n",
    "    im.set_data(frame)\n",
    "    display(fig)\n",
    "    clear_output(wait=True)\n",
    "    "
   ]
  },
  {
   "cell_type": "code",
   "execution_count": null,
   "id": "e8808ae6-8e8f-4a40-87f4-7dab4b07a3fd",
   "metadata": {},
   "outputs": [],
   "source": []
  }
 ],
 "metadata": {
  "kernelspec": {
   "display_name": "Python (torch)",
   "language": "python",
   "name": "torch"
  },
  "language_info": {
   "codemirror_mode": {
    "name": "ipython",
    "version": 3
   },
   "file_extension": ".py",
   "mimetype": "text/x-python",
   "name": "python",
   "nbconvert_exporter": "python",
   "pygments_lexer": "ipython3",
   "version": "3.12.11"
  }
 },
 "nbformat": 4,
 "nbformat_minor": 5
}
