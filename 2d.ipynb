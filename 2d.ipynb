{
 "cells": [
  {
   "cell_type": "code",
   "execution_count": 1,
   "id": "b9553b48-5c43-4c52-a91c-ea3477e11448",
   "metadata": {},
   "outputs": [],
   "source": [
    "import numpy as np\n",
    "import torch\n",
    "import matplotlib.pyplot as plt\n",
    "import time\n",
    "\n",
    "from IPython.display import display, clear_output\n",
    "from PIL import Image\n",
    "\n",
    "from stable_fluid.fluid import Fluid\n",
    "\n",
    "#z, y, x순서임.\n",
    "#근데 speed[0]은 x벡터의 크기, speed[1]은 y벡터의 크, speed[2]는 z벡터의 크기 됨 주의.\n",
    "RESOLUTION = 500, 500\n",
    "DURATION = 80000\n",
    "\n",
    "INFLOW_DURATION = 8000\n",
    "INFLOW_VELOCITY = 0.1\n",
    "INFLOW_COUNT = 1\n"
   ]
  },
  {
   "cell_type": "code",
   "execution_count": 2,
   "id": "3d4ab181-ab17-4aa8-aee0-2f7b44b778f6",
   "metadata": {},
   "outputs": [
    {
     "name": "stdout",
     "output_type": "stream",
     "text": [
      "device:  cuda\n"
     ]
    }
   ],
   "source": [
    "\n",
    "device = torch.device(\"cuda\") if torch.cuda.is_available() else torch.device(\"cpu\")\n",
    "print(\"device: \", device)\n",
    "fluid = Fluid(RESOLUTION, 'dye', device = device)\n",
    "\n",
    "inflow_velocity = torch.zeros_like(fluid.velocity, device=device)\n",
    "inflow_velocity[1, 23:25, 246:254] += INFLOW_VELOCITY\n",
    "inflow_dye = torch.zeros(fluid.shape, device=device)\n",
    "inflow_dye[23:25, 246:254] = 0.5\n",
    "#inflow_dye[470:480, 245:255] = 1.0"
   ]
  },
  {
   "cell_type": "code",
   "execution_count": null,
   "id": "7faf4f36-74a4-4653-8148-398157c6d7aa",
   "metadata": {},
   "outputs": [
    {
     "data": {
      "image/png": "[encoded data removed]",
      "text/plain": [
       "<Figure size 640x480 with 1 Axes>"
      ]
     },
     "metadata": {},
     "output_type": "display_data"
    }
   ],
   "source": [
    "\n",
    "plt.ioff()  # interactive mode 끄기\n",
    "fig, ax = plt.subplots()\n",
    "im = ax.imshow(np.zeros(RESOLUTION), cmap='gray', vmin=0, vmax=1)\n",
    "\n",
    "for f in range(DURATION):\n",
    "    \n",
    "    if f <= INFLOW_DURATION:\n",
    "        fluid.velocity += inflow_velocity\n",
    "        fluid.dye += inflow_dye\n",
    "    fluid.step(dt = 0.03)\n",
    "    '''\n",
    "    velocity = fluid.velocity.cpu().numpy()\n",
    "    \n",
    "    speed = np.linalg.norm(velocity, axis=0)\n",
    "    max_val = np.max(speed)\n",
    "    if max_val > 0:\n",
    "        speed_norm = speed / max_val\n",
    "    else:\n",
    "        speed_norm = speed\n",
    "    '''\n",
    "    if(f % 100 == 0):\n",
    "        print(f'Computing frame {f + 1} of {DURATION}.')\n",
    "        dye_cpu = fluid.dye.cpu().numpy()[::-1, :]\n",
    "        dye_cpu[dye_cpu >= 1] = 1\n",
    "        frame = dye_cpu\n",
    "        \n",
    "        im.set_data(frame)\n",
    "        clear_output(wait=True)\n",
    "        display(fig)\n",
    "    "
   ]
  }
 ],
 "metadata": {
  "kernelspec": {
   "display_name": "Python (torch)",
   "language": "python",
   "name": "torch"
  },
  "language_info": {
   "codemirror_mode": {
    "name": "ipython",
    "version": 3
   },
   "file_extension": ".py",
   "mimetype": "text/x-python",
   "name": "python",
   "nbconvert_exporter": "python",
   "pygments_lexer": "ipython3",
   "version": "3.12.11"
  }
 },
 "nbformat": 4,
 "nbformat_minor": 5
}
